{
 "cells": [
  {
   "cell_type": "code",
   "execution_count": 1,
   "metadata": {},
   "outputs": [],
   "source": [
    "# import block\n",
    "from tools.decompositions import qr_factorize as factorizer\n",
    "from tools.decompositions import validate\n",
    "import numpy as np"
   ]
  },
  {
   "cell_type": "code",
   "execution_count": 2,
   "metadata": {},
   "outputs": [
    {
     "name": "stdout",
     "output_type": "stream",
     "text": [
      "A=\n",
      " [[4.17022005e-01 7.20324493e-01 1.14374817e-04 ... 8.44329949e-01\n",
      "  9.20206514e-01 2.27900290e-01]\n",
      " [8.74822096e-02 2.27309736e-01 3.14376616e-01 ... 6.68796606e-01\n",
      "  3.25967207e-01 7.74477266e-01]\n",
      " [3.25809967e-01 8.89827341e-01 7.51707721e-01 ... 6.44941673e-01\n",
      "  4.84315773e-01 9.67695246e-01]\n",
      " ...\n",
      " [1.51486251e-01 6.38941486e-01 3.63883195e-01 ... 5.85179335e-01\n",
      "  1.02424223e-01 2.81061430e-01]\n",
      " [3.93525026e-01 5.39786668e-01 5.84946564e-01 ... 1.92432947e-01\n",
      "  6.45890776e-02 6.96983660e-01]\n",
      " [1.98653619e-01 2.90040575e-01 3.86837686e-01 ... 3.11285210e-01\n",
      "  9.74478628e-01 3.19562678e-01]]\n",
      "\n",
      "Non singular, det = 2.699021353261159e+299\n"
     ]
    }
   ],
   "source": [
    "# random matrix generation\n",
    "\n",
    "# set the seed for reusability\n",
    "np.random.seed(1)\n",
    "\n",
    "# generate a random 100x100 matrix\n",
    "A = np.random.rand(500, 500)\n",
    "print('A=\\n', A)\n",
    "\n",
    "# check if the matrix is non singular\n",
    "det = np.linalg.det(A)\n",
    "print(f'\\nNon singular, det = {det}' if det != 0 else 'Singular')"
   ]
  },
  {
   "cell_type": "code",
   "execution_count": 3,
   "metadata": {},
   "outputs": [
    {
     "name": "stdout",
     "output_type": "stream",
     "text": [
      "As we have already expected, the builtin NumPy decomposition function is ~40.76x faster.\n"
     ]
    }
   ],
   "source": [
    "# compare the results for\n",
    "from timeit import default_timer as timer\n",
    "\n",
    "t1 = timer()\n",
    "factorizer(A)\n",
    "t1 = timer() - t1\n",
    "\n",
    "t2 = timer()\n",
    "np.linalg.qr(A)\n",
    "t2 = timer() - t2\n",
    "\n",
    "print(\n",
    "    f'As we have already expected, the builtin NumPy decomposition function is ~{t1/t2:.2f}x faster.')"
   ]
  },
  {
   "cell_type": "code",
   "execution_count": 4,
   "metadata": {},
   "outputs": [
    {
     "name": "stdout",
     "output_type": "stream",
     "text": [
      "Custom QR decomposition function:\n",
      "\tError Threshold Satisfied: False     Maximum Absolute Error: 1.067949394917278e-06\n",
      "NumPy QR decomposition function:\n",
      "\tError Threshold Satisfied: True      Maximum Absolute Error: 6.439293542825908e-15\n"
     ]
    }
   ],
   "source": [
    "# error analysis\n",
    "\n",
    "Q1, R1 = factorizer(A)  # our function\n",
    "Q2, R2 = np.linalg.qr(A)  # NumPy function\n",
    "\n",
    "custom_err = validate(A, Q1, R1)\n",
    "NumPy_err = validate(A, Q2, R2)\n",
    "print(\n",
    "    f'Custom QR decomposition function:\\n\\tError Threshold Satisfied: {str(custom_err[0]):<10}Maximum Absolute Error: {custom_err[1]}')\n",
    "print(\n",
    "    f'NumPy QR decomposition function:\\n\\tError Threshold Satisfied: {str(NumPy_err[0]):<10}Maximum Absolute Error: {NumPy_err[1]}')"
   ]
  },
  {
   "cell_type": "markdown",
   "metadata": {},
   "source": [
    "## Trying out a singular matrix\n",
    "\n",
    "Our function is not able to decompose singular matrices. It also decomposes $A_{m\\times n}$ into $Q_{m\\times n}\\times R_{n\\times n}$ while the built-in function of NumPy (and SciPy) uses $A_{m\\times n} = Q_{m\\times m}\\times R_{m\\times n}$. Moreover, these functions employ algorithms that turn singular matrices into non singular ones by changing the sign of the diagonal matrix elements. Consider the following examle:"
   ]
  },
  {
   "cell_type": "code",
   "execution_count": 5,
   "metadata": {},
   "outputs": [
    {
     "name": "stdout",
     "output_type": "stream",
     "text": [
      "Our Q:\n",
      "[[ 0.70710679  0.40824828 -0.5773503 ]\n",
      " [ 0.70710679 -0.40824828  0.5773503 ]\n",
      " [ 0.          0.81649655  0.57735025]]\n",
      "NumPy Q:\n",
      "[[-0.70710678  0.40824829 -0.57735027]\n",
      " [-0.70710678 -0.40824829  0.57735027]\n",
      " [-0.          0.81649658  0.57735027]]\n",
      "Our R:\n",
      "[[1.4142135  0.70710677 0.70710677]\n",
      " [0.         1.2247449  0.4082483 ]\n",
      " [0.         0.         1.1547005 ]]\n",
      "NumPy R:\n",
      "[[-1.41421356 -0.70710678 -0.70710678]\n",
      " [ 0.          1.22474487  0.40824829]\n",
      " [ 0.          0.          1.15470054]]\n"
     ]
    }
   ],
   "source": [
    "# comparison of signs in algorithms\n",
    "\n",
    "M = np.array([\n",
    "    [1, 1, 0],\n",
    "    [1,  0, 1],\n",
    "    [0,  1, 1]\n",
    "])\n",
    "Q_custom, R_custom = factorizer(M)\n",
    "Q_NumPy, R_NumPy = np.linalg.qr(M)\n",
    "\n",
    "print(f'Our Q:\\n{str(Q_custom)}')\n",
    "print(f'NumPy Q:\\n{str(Q_NumPy)}')\n",
    "print(f'Our R:\\n{str(R_custom)}')\n",
    "print(f'NumPy R:\\n{str(R_NumPy)}')"
   ]
  },
  {
   "cell_type": "markdown",
   "metadata": {},
   "source": [
    "However, both algorithms obtain the same matrix when Q and R are multiplied."
   ]
  },
  {
   "cell_type": "code",
   "execution_count": 6,
   "metadata": {},
   "outputs": [
    {
     "name": "stdout",
     "output_type": "stream",
     "text": [
      "Our Algorithm:\n",
      " [[ 1.  1. -0.]\n",
      " [ 1. -0.  1.]\n",
      " [ 0.  1.  1.]]\n",
      "NumPy Algorithm:\n",
      " [[ 1.  1. -0.]\n",
      " [ 1. -0.  1.]\n",
      " [ 0.  1.  1.]]\n"
     ]
    }
   ],
   "source": [
    "print('Our Algorithm:\\n', np.round(Q_custom @ R_custom))\n",
    "print('NumPy Algorithm:\\n', np.round(Q_NumPy @ R_NumPy))"
   ]
  },
  {
   "cell_type": "code",
   "execution_count": 7,
   "metadata": {},
   "outputs": [
    {
     "name": "stdout",
     "output_type": "stream",
     "text": [
      "Singular\n"
     ]
    }
   ],
   "source": [
    "# Singular Matrix Example\n",
    "\n",
    "S = np.array([\n",
    "    [1, -1, 0],\n",
    "    [1,  0, 1],\n",
    "    [0,  1, 1]\n",
    "])\n",
    "\n",
    "det = np.linalg.det(S)\n",
    "print(f'Non singular ({det})' if det != 0 else 'Singular')"
   ]
  },
  {
   "cell_type": "code",
   "execution_count": 9,
   "metadata": {},
   "outputs": [
    {
     "name": "stdout",
     "output_type": "stream",
     "text": [
      "Q=\n",
      "[[ 0.70710679 -0.40824828         nan]\n",
      " [ 0.70710679  0.40824828         nan]\n",
      " [ 0.          0.81649655         nan]]\n",
      "R=\n",
      "[[ 1.4142135  -0.70710677  0.70710677]\n",
      " [ 0.          1.2247449   1.2247449 ]\n",
      " [ 0.          0.          0.        ]]\n",
      "\n",
      "If we multiply the matrices, we get false results...\n",
      "S = Q x R =\n",
      "[[nan nan nan]\n",
      " [nan nan nan]\n",
      " [nan nan nan]]\n",
      "===========================================================================\n",
      "Q=\n",
      "[[-0.70710678  0.40824829  0.57735027]\n",
      " [-0.70710678 -0.40824829 -0.57735027]\n",
      " [-0.         -0.81649658  0.57735027]]\n",
      "R=\n",
      "[[-1.41421356e+00  7.07106781e-01 -7.07106781e-01]\n",
      " [ 0.00000000e+00 -1.22474487e+00 -1.22474487e+00]\n",
      " [ 0.00000000e+00  0.00000000e+00 -1.52468327e-16]]\n",
      "\n",
      "Where as with NumPy, it can still decompose the matrix S and obtain correct results upon multiplication...\n",
      "S = Q x R =\n",
      "[[ 1. -1. -0.]\n",
      " [ 1.  0.  1.]\n",
      " [ 0.  1.  1.]]\n"
     ]
    }
   ],
   "source": [
    "# factorization of a singular matrix\n",
    "\n",
    "Qs, Rs = factorizer(S)  # our algorithm\n",
    "print(f'Q=\\n{Qs}')\n",
    "print(f'R=\\n{Rs}')\n",
    "\n",
    "print('\\nIf we multiply the matrices, we get false results...')\n",
    "print(f'S = Q x R =\\n{Qs @ Rs}')\n",
    "\n",
    "print(f'===========================================================================')\n",
    "\n",
    "Qs, Rs = np.linalg.qr(S)  # NumPy's algorithm\n",
    "print(f'Q=\\n{Qs}')\n",
    "print(f'R=\\n{Rs}')\n",
    "\n",
    "print('\\nWhere as with NumPy, it can still decompose the matrix S and obtain correct results upon multiplication...')\n",
    "print(f'S = Q x R =\\n{np.round(Qs @ Rs)}')"
   ]
  },
  {
   "cell_type": "code",
   "execution_count": null,
   "metadata": {},
   "outputs": [],
   "source": []
  }
 ],
 "metadata": {
  "kernelspec": {
   "display_name": "ai_ml",
   "language": "python",
   "name": "python3"
  },
  "language_info": {
   "codemirror_mode": {
    "name": "ipython",
    "version": 3
   },
   "file_extension": ".py",
   "mimetype": "text/x-python",
   "name": "python",
   "nbconvert_exporter": "python",
   "pygments_lexer": "ipython3",
   "version": "3.9.16"
  }
 },
 "nbformat": 4,
 "nbformat_minor": 2
}
