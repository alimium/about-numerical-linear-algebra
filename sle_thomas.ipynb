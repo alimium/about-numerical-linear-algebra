{
 "cells": [
  {
   "cell_type": "code",
   "execution_count": 23,
   "metadata": {},
   "outputs": [],
   "source": [
    "import numpy as np\n",
    "import scipy\n",
    "from tools.sle_solvers import very_rapid_thomas_algorithm as solver"
   ]
  },
  {
   "cell_type": "code",
   "execution_count": 24,
   "metadata": {},
   "outputs": [
    {
     "name": "stdout",
     "output_type": "stream",
     "text": [
      "size of A is (5000, 5000)\n",
      "size of f is 5000\n",
      "\n",
      "A is:\n",
      "[[100  -2   0 ...   0   0   0]\n",
      " [ -2 100  -2 ...   0   0   0]\n",
      " [  0  -2 100 ...   0   0   0]\n",
      " ...\n",
      " [  0   0   0 ... 100  -2   0]\n",
      " [  0   0   0 ...  -2 100  -2]\n",
      " [  0   0   0 ...   0  -2 100]]\n",
      "\n",
      "f is: [ 4 -2  4 ... -2  4 -2]\n"
     ]
    }
   ],
   "source": [
    "# create the matrix\n",
    "\n",
    "n = 5000\n",
    "A = np.diag([100]*5000, k=0)+np.diag([-2]*4999, k=-1)+np.diag([-2]*4999, k=1)\n",
    "f = np.array([4, -2]*2500)\n",
    "\n",
    "print(f'size of A is {A.shape}')\n",
    "print(f'size of f is {f.shape[0]}')\n",
    "\n",
    "print(f'\\nA is:\\n{A}')\n",
    "print(f'\\nf is: {f}')"
   ]
  },
  {
   "cell_type": "code",
   "execution_count": 25,
   "metadata": {},
   "outputs": [
    {
     "name": "stdout",
     "output_type": "stream",
     "text": [
      "As we can see Thomas's algorithm is 111.03 faster.\n"
     ]
    }
   ],
   "source": [
    "# solve and time the process\n",
    "\n",
    "from timeit import default_timer as timer\n",
    "\n",
    "\n",
    "st = timer()\n",
    "xt = solver(A, f)\n",
    "et = timer()\n",
    "ss = timer()\n",
    "xs = scipy.linalg.solve(A, f)\n",
    "es = timer()\n",
    "\n",
    "print(f'As we can see Thomas\\'s algorithm is {(es-ss)/(et-st):.2f} faster.')"
   ]
  },
  {
   "cell_type": "code",
   "execution_count": 26,
   "metadata": {},
   "outputs": [
    {
     "data": {
      "text/plain": [
       "0.0"
      ]
     },
     "execution_count": 26,
     "metadata": {},
     "output_type": "execute_result"
    }
   ],
   "source": [
    "# error analysis (here we calculate maximum absolute error between SciPy and our implementation of Thomson's algorithm)\n",
    "\n",
    "np.max(np.abs(xt-xs))"
   ]
  }
 ],
 "metadata": {
  "kernelspec": {
   "display_name": "ai_ml",
   "language": "python",
   "name": "python3"
  },
  "language_info": {
   "codemirror_mode": {
    "name": "ipython",
    "version": 3
   },
   "file_extension": ".py",
   "mimetype": "text/x-python",
   "name": "python",
   "nbconvert_exporter": "python",
   "pygments_lexer": "ipython3",
   "version": "3.9.16"
  }
 },
 "nbformat": 4,
 "nbformat_minor": 2
}
